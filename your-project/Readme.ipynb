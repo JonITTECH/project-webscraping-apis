{
 "cells": [
  {
   "cell_type": "markdown",
   "id": "7341b160",
   "metadata": {},
   "source": []
  },
  {
   "cell_type": "markdown",
   "id": "838fb4dc",
   "metadata": {},
   "source": [
    "#### \n"
   ]
  },
  {
   "cell_type": "markdown",
   "id": "907f1410",
   "metadata": {},
   "source": [
    "## Introduction"
   ]
  },
  {
   "cell_type": "markdown",
   "id": "54e3439f",
   "metadata": {},
   "source": [
    ":books: Books for Buddies :books: is an application created to help avid readers find exciting readings based on their own tastes and interests, as well as to give as gifts to their friends and loved ones. That is why we have created a dynamic environment that will help you choose your preferences and will give you results very in line with what you were looking for, giving you information such as the title, author and price of the book."
   ]
  },
  {
   "cell_type": "markdown",
   "id": "f3f94e72",
   "metadata": {},
   "source": [
    "## How it works?"
   ]
  },
  {
   "cell_type": "code",
   "execution_count": null,
   "id": "820ec76a",
   "metadata": {},
   "outputs": [],
   "source": []
  },
  {
   "cell_type": "markdown",
   "id": "32c552ca",
   "metadata": {},
   "source": [
    "# Links"
   ]
  },
  {
   "cell_type": "code",
   "execution_count": null,
   "id": "8ec2169f",
   "metadata": {},
   "outputs": [],
   "source": []
  },
  {
   "cell_type": "markdown",
   "id": "dc5ecd53",
   "metadata": {},
   "source": [
    "## "
   ]
  },
  {
   "cell_type": "code",
   "execution_count": 3,
   "id": "36d8e4bd",
   "metadata": {},
   "outputs": [
    {
     "ename": "SyntaxError",
     "evalue": "unterminated string literal (detected at line 3) (2016971629.py, line 3)",
     "output_type": "error",
     "traceback": [
      "\u001b[1;36m  Cell \u001b[1;32mIn[3], line 3\u001b[1;36m\u001b[0m\n\u001b[1;33m    Explanation of how your pipeline works (API's + web-scraping depending on each case).\u001b[0m\n\u001b[1;37m                                               ^\u001b[0m\n\u001b[1;31mSyntaxError\u001b[0m\u001b[1;31m:\u001b[0m unterminated string literal (detected at line 3)\n"
     ]
    }
   ],
   "source": [
    "Title of the project\n",
    "Introduction to your project.\n",
    "Explanation of how your pipeline works (API's + web-scraping depending on each case).\n",
    "Links to sources of external data you used to enrich your project (if aplicable).\n",
    "Conclusions after your analysis/ product/ feature(s) development.\n",
    "Further questions."
   ]
  },
  {
   "cell_type": "code",
   "execution_count": null,
   "id": "d4d7cd02",
   "metadata": {},
   "outputs": [],
   "source": [
    "Title of My Project\n",
    "[Your Name]\n",
    "\n",
    "[Your Cohort, Campus & Date]\n",
    "\n",
    "Content\n",
    "Project Description\n",
    "Hypotheses / Questions\n",
    "Dataset\n",
    "Workflow\n",
    "Organization\n",
    "Links\n",
    "\n",
    "Project Description\n",
    "Write a short description of your project: 3-5 sentences about what your project is about, why you chose this topic (if relevant), and what you are trying to show.\n",
    "\n",
    "\n",
    "Hypotheses / Questions\n",
    "What are the questions you would like to answer with your project? Write your hypotheses here.\n",
    "\n",
    "\n",
    "Dataset\n",
    "Where did you get your data? What dataset did you use or did you build your own datset? If so, did you use an API? Did you scrape a web? Provide links to the data if available.\n",
    "\n",
    "Dataset\n",
    "\n",
    "\n",
    "Workflow\n",
    "Outline the workflow you used in your project. What were the steps you went through?\n",
    "\n",
    "\n",
    "Organization\n",
    "How did you organize yourself? Did you use any tools?\n",
    "\n",
    "\n",
    "Links\n",
    "Include the links to your repository, slides and trello. Feel free to include any other links associated to your project.\n",
    "\n",
    "Repository\n",
    "Slides\n",
    "Trello"
   ]
  }
 ],
 "metadata": {
  "kernelspec": {
   "display_name": "Python 3 (ipykernel)",
   "language": "python",
   "name": "python3"
  },
  "language_info": {
   "codemirror_mode": {
    "name": "ipython",
    "version": 3
   },
   "file_extension": ".py",
   "mimetype": "text/x-python",
   "name": "python",
   "nbconvert_exporter": "python",
   "pygments_lexer": "ipython3",
   "version": "3.11.4"
  }
 },
 "nbformat": 4,
 "nbformat_minor": 5
}
