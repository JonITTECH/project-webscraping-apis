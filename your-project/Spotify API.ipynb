{
 "cells": [
  {
   "cell_type": "code",
   "execution_count": 2,
   "id": "3555ab70",
   "metadata": {},
   "outputs": [
    {
     "name": "stdout",
     "output_type": "stream",
     "text": [
      "Token de acceso: BQCMtOCq-a8P7ibQXHYt3Jjhs3heH1ZMu5bGpOgughaWuPf8bSfgPjFYTi67ldqwNCLQiIFr8J83hMYw60jAg1X33rfQ8zz73cr-VEINUn0GwlynXeU\n"
     ]
    }
   ],
   "source": [
    "import base64\n",
    "import requests\n",
    "\n",
    "client_id = 'ff23a08614024bac892b435ddd980a61'\n",
    "client_secret = '70264a4aa73a40c5ae61d5439f9bc765'\n",
    "\n",
    "credentials = base64.b64encode(f'{client_id}:{client_secret}'.encode('utf-8')).decode('utf-8')\n",
    "\n",
    "token_url = 'https://accounts.spotify.com/api/token'\n",
    "\n",
    "payload = {\n",
    "    'grant_type': 'client_credentials',\n",
    "}\n",
    "\n",
    "headers = {\n",
    "    'Authorization': f'Basic {credentials}',\n",
    "    'Content-Type': 'application/x-www-form-urlencoded',\n",
    "}\n",
    "\n",
    "response = requests.post(token_url, data=payload, headers=headers)\n",
    "\n",
    "if response.status_code == 200:\n",
    "    token = response.json().get('access_token')\n",
    "    print(f'Token de acceso: {token}')\n",
    "else:\n",
    "    print(f'Error en la solicitud: {response.status_code} - {response.text}')\n"
   ]
  },
  {
   "cell_type": "code",
   "execution_count": 3,
   "id": "9d802a18",
   "metadata": {},
   "outputs": [
    {
     "name": "stdout",
     "output_type": "stream",
     "text": [
      "{'album': {'album_type': 'album', 'artists': [{'external_urls': {'spotify': 'https://open.spotify.com/artist/08td7MxkoHQkXnWAYD8d6Q'}, 'href': 'https://api.spotify.com/v1/artists/08td7MxkoHQkXnWAYD8d6Q', 'id': '08td7MxkoHQkXnWAYD8d6Q', 'name': 'Tania Bowra', 'type': 'artist', 'uri': 'spotify:artist:08td7MxkoHQkXnWAYD8d6Q'}], 'available_markets': ['AR', 'AU', 'AT', 'BE', 'BO', 'BR', 'BG', 'CA', 'CL', 'CO', 'CR', 'CY', 'CZ', 'DK', 'DO', 'DE', 'EC', 'EE', 'SV', 'FI', 'FR', 'GR', 'GT', 'HN', 'HK', 'HU', 'IS', 'IE', 'IT', 'LV', 'LT', 'LU', 'MY', 'MT', 'MX', 'NL', 'NZ', 'NI', 'NO', 'PA', 'PY', 'PE', 'PH', 'PL', 'PT', 'SG', 'SK', 'ES', 'SE', 'CH', 'TW', 'TR', 'UY', 'US', 'GB', 'AD', 'LI', 'MC', 'ID', 'JP', 'TH', 'VN', 'RO', 'IL', 'ZA', 'SA', 'AE', 'BH', 'QA', 'OM', 'KW', 'EG', 'MA', 'DZ', 'TN', 'LB', 'JO', 'PS', 'IN', 'BY', 'KZ', 'MD', 'UA', 'AL', 'BA', 'HR', 'ME', 'MK', 'RS', 'SI', 'KR', 'BD', 'PK', 'LK', 'GH', 'KE', 'NG', 'TZ', 'UG', 'AG', 'AM', 'BS', 'BB', 'BZ', 'BT', 'BW', 'BF', 'CV', 'CW', 'DM', 'FJ', 'GM', 'GE', 'GD', 'GW', 'GY', 'HT', 'JM', 'KI', 'LS', 'LR', 'MW', 'MV', 'ML', 'MH', 'FM', 'NA', 'NR', 'NE', 'PW', 'PG', 'WS', 'SM', 'ST', 'SN', 'SC', 'SL', 'SB', 'KN', 'LC', 'VC', 'SR', 'TL', 'TO', 'TT', 'TV', 'VU', 'AZ', 'BN', 'BI', 'KH', 'CM', 'TD', 'KM', 'GQ', 'SZ', 'GA', 'GN', 'KG', 'LA', 'MO', 'MR', 'MN', 'NP', 'RW', 'TG', 'UZ', 'ZW', 'BJ', 'MG', 'MU', 'MZ', 'AO', 'CI', 'DJ', 'ZM', 'CD', 'CG', 'IQ', 'LY', 'TJ', 'VE', 'ET', 'XK'], 'external_urls': {'spotify': 'https://open.spotify.com/album/6akEvsycLGftJxYudPjmqK'}, 'href': 'https://api.spotify.com/v1/albums/6akEvsycLGftJxYudPjmqK', 'id': '6akEvsycLGftJxYudPjmqK', 'images': [{'height': 640, 'url': 'https://i.scdn.co/image/ab67616d0000b2731ae2bdc1378da1b440e1f610', 'width': 640}, {'height': 300, 'url': 'https://i.scdn.co/image/ab67616d00001e021ae2bdc1378da1b440e1f610', 'width': 300}, {'height': 64, 'url': 'https://i.scdn.co/image/ab67616d000048511ae2bdc1378da1b440e1f610', 'width': 64}], 'name': 'Place In The Sun', 'release_date': '2004-02-02', 'release_date_precision': 'day', 'total_tracks': 11, 'type': 'album', 'uri': 'spotify:album:6akEvsycLGftJxYudPjmqK'}, 'artists': [{'external_urls': {'spotify': 'https://open.spotify.com/artist/08td7MxkoHQkXnWAYD8d6Q'}, 'href': 'https://api.spotify.com/v1/artists/08td7MxkoHQkXnWAYD8d6Q', 'id': '08td7MxkoHQkXnWAYD8d6Q', 'name': 'Tania Bowra', 'type': 'artist', 'uri': 'spotify:artist:08td7MxkoHQkXnWAYD8d6Q'}], 'available_markets': ['AR', 'AU', 'AT', 'BE', 'BO', 'BR', 'BG', 'CA', 'CL', 'CO', 'CR', 'CY', 'CZ', 'DK', 'DO', 'DE', 'EC', 'EE', 'SV', 'FI', 'FR', 'GR', 'GT', 'HN', 'HK', 'HU', 'IS', 'IE', 'IT', 'LV', 'LT', 'LU', 'MY', 'MT', 'MX', 'NL', 'NZ', 'NI', 'NO', 'PA', 'PY', 'PE', 'PH', 'PL', 'PT', 'SG', 'SK', 'ES', 'SE', 'CH', 'TW', 'TR', 'UY', 'US', 'GB', 'AD', 'LI', 'MC', 'ID', 'JP', 'TH', 'VN', 'RO', 'IL', 'ZA', 'SA', 'AE', 'BH', 'QA', 'OM', 'KW', 'EG', 'MA', 'DZ', 'TN', 'LB', 'JO', 'PS', 'IN', 'BY', 'KZ', 'MD', 'UA', 'AL', 'BA', 'HR', 'ME', 'MK', 'RS', 'SI', 'KR', 'BD', 'PK', 'LK', 'GH', 'KE', 'NG', 'TZ', 'UG', 'AG', 'AM', 'BS', 'BB', 'BZ', 'BT', 'BW', 'BF', 'CV', 'CW', 'DM', 'FJ', 'GM', 'GE', 'GD', 'GW', 'GY', 'HT', 'JM', 'KI', 'LS', 'LR', 'MW', 'MV', 'ML', 'MH', 'FM', 'NA', 'NR', 'NE', 'PW', 'PG', 'WS', 'SM', 'ST', 'SN', 'SC', 'SL', 'SB', 'KN', 'LC', 'VC', 'SR', 'TL', 'TO', 'TT', 'TV', 'VU', 'AZ', 'BN', 'BI', 'KH', 'CM', 'TD', 'KM', 'GQ', 'SZ', 'GA', 'GN', 'KG', 'LA', 'MO', 'MR', 'MN', 'NP', 'RW', 'TG', 'UZ', 'ZW', 'BJ', 'MG', 'MU', 'MZ', 'AO', 'CI', 'DJ', 'ZM', 'CD', 'CG', 'IQ', 'LY', 'TJ', 'VE', 'ET', 'XK'], 'disc_number': 1, 'duration_ms': 276773, 'explicit': False, 'external_ids': {'isrc': 'AUCR10410001'}, 'external_urls': {'spotify': 'https://open.spotify.com/track/2TpxZ7JUBn3uw46aR7qd6V'}, 'href': 'https://api.spotify.com/v1/tracks/2TpxZ7JUBn3uw46aR7qd6V', 'id': '2TpxZ7JUBn3uw46aR7qd6V', 'is_local': False, 'name': 'All I Want', 'popularity': 2, 'preview_url': 'https://p.scdn.co/mp3-preview/2cc385470731bc540a08caef5eab31dec7b036a6?cid=ff23a08614024bac892b435ddd980a61', 'track_number': 1, 'type': 'track', 'uri': 'spotify:track:2TpxZ7JUBn3uw46aR7qd6V'}\n"
     ]
    }
   ],
   "source": [
    "import requests\n",
    "\n",
    "# Tu token de acceso\n",
    "access_token = 'BQCMtOCq-a8P7ibQXHYt3Jjhs3heH1ZMu5bGpOgughaWuPf8bSfgPjFYTi67ldqwNCLQiIFr8J83hMYw60jAg1X33rfQ8zz73cr-VEINUn0GwlynXeU'\n",
    "\n",
    "track_id = '2TpxZ7JUBn3uw46aR7qd6V'\n",
    "api_url = f'https://api.spotify.com/v1/tracks/{track_id}'\n",
    "\n",
    "headers = {\n",
    "    'Authorization': f'Bearer {access_token}',\n",
    "}\n",
    "\n",
    "response = requests.get(api_url, headers=headers)\n",
    "\n",
    "if response.status_code == 200:\n",
    "    print(response.json())\n",
    "else:\n",
    "    print(f'Error en la solicitud: {response.status_code} - {response.text}')\n"
   ]
  },
  {
   "cell_type": "code",
   "execution_count": null,
   "id": "e3816fff",
   "metadata": {},
   "outputs": [],
   "source": []
  }
 ],
 "metadata": {
  "kernelspec": {
   "display_name": "Python 3 (ipykernel)",
   "language": "python",
   "name": "python3"
  },
  "language_info": {
   "codemirror_mode": {
    "name": "ipython",
    "version": 3
   },
   "file_extension": ".py",
   "mimetype": "text/x-python",
   "name": "python",
   "nbconvert_exporter": "python",
   "pygments_lexer": "ipython3",
   "version": "3.11.4"
  }
 },
 "nbformat": 4,
 "nbformat_minor": 5
}
