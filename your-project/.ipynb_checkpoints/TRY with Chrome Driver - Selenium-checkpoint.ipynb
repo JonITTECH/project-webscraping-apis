{
 "cells": [
  {
   "cell_type": "code",
   "execution_count": 5,
   "id": "05a47edf",
   "metadata": {},
   "outputs": [],
   "source": [
    "from selenium import webdriver\n",
    "\n",
    "# Path al ejecutable de ChromeDriver\n",
    "chrome_driver_path = r\"C:\\Users\\USUARIO\\Downloads\\chromedriver-win64\\chromedriver-win64\\chromedriver.exe\"\n",
    "\n",
    "# Configurar las opciones del navegador Chrome\n",
    "options = webdriver.ChromeOptions()\n",
    "options.binary_location = r\"C:\\Program Files\\Google\\Chrome\\Application\\chrome.exe\"  # Ruta al ejecutable de Chrome\n",
    "\n",
    "# Crear una instancia del controlador de Chrome\n",
    "driver = webdriver.Chrome(options=options)\n",
    "\n"
   ]
  },
  {
   "cell_type": "code",
   "execution_count": 7,
   "id": "accaac05",
   "metadata": {},
   "outputs": [
    {
     "name": "stdout",
     "output_type": "stream",
     "text": [
      "Total price not found.\n"
     ]
    }
   ],
   "source": [
    "from selenium import webdriver\n",
    "\n",
    "# Configurar el navegador web\n",
    "options = webdriver.ChromeOptions()\n",
    "options.add_argument(\"--headless\")  # Ejecutar Chrome en modo headless (sin interfaz gráfica)\n",
    "driver = webdriver.Chrome(options=options)\n",
    "\n",
    "# Navegar a la página de BooksPrice\n",
    "driver.get(\"https://www.booksprice.com/\")\n",
    "\n",
    "# Ingresar el título del libro en el campo de búsqueda y realizar la búsqueda\n",
    "search_box = driver.find_element(\"id\", \"txt\")\n",
    "search_box.send_keys(\"The Great Gatsby\")\n",
    "search_box.submit()  # Enviar el formulario\n",
    "\n",
    "# Esperar a que aparezca al menos un resultado de búsqueda\n",
    "driver.implicitly_wait(10)\n",
    "\n",
    "# Encontrar el elemento div que contiene el botón \"compare price\" y hacer clic en él\n",
    "book_div = driver.find_element(\"class name\", \"bk\")\n",
    "compare_price_button = book_div.find_element(By.CLASS_NAME, \"comparePrice-btn\")\n",
    "compare_price_button.click()\n",
    "\n",
    "# Esperar a que aparezca el precio total y obtener la página actual\n",
    "driver.implicitly_wait(15)\n",
    "page_source = driver.page_source\n",
    "\n",
    "# Analizar la página nuevamente con BeautifulSoup\n",
    "from bs4 import BeautifulSoup\n",
    "soup = BeautifulSoup(page_source, \"html.parser\")\n",
    "\n",
    "# Encontrar el precio total en el primer elemento con clase \"marker\"\n",
    "price_marker = soup.find(\"em\", class_=\"marker\")\n",
    "if price_marker:\n",
    "    total_price = price_marker.get_text().strip()\n",
    "    print(\"Total Price:\", total_price)\n",
    "else:\n",
    "    print(\"Total price not found.\")\n",
    "\n",
    "# Cerrar el navegador\n",
    "driver.quit()\n"
   ]
  },
  {
   "cell_type": "code",
   "execution_count": 8,
   "id": "1909cd07",
   "metadata": {},
   "outputs": [
    {
     "name": "stdout",
     "output_type": "stream",
     "text": [
      "Total price not found.\n"
     ]
    }
   ],
   "source": [
    "from selenium import webdriver\n",
    "from selenium.webdriver.common.by import By\n",
    "from selenium.webdriver.common.keys import Keys\n",
    "from bs4 import BeautifulSoup\n",
    "\n",
    "# Configure the web browser\n",
    "options = webdriver.ChromeOptions()\n",
    "options.add_argument(\"--headless\")  # Run Chrome in headless mode (without a graphical interface)\n",
    "driver = webdriver.Chrome(options=options)\n",
    "\n",
    "# Navigate to the BooksPrice page\n",
    "driver.get(\"https://www.booksprice.com/\")\n",
    "\n",
    "# Enter the book title in the search field and perform the search\n",
    "search_box = driver.find_element(\"id\", \"txt\")\n",
    "search_box.send_keys(\"The Great Gatsby\")\n",
    "search_box.send_keys(Keys.RETURN)\n",
    "\n",
    "# Wait for at least one search result to appear\n",
    "driver.implicitly_wait(10)\n",
    "\n",
    "# Find the \"compare price\" button and click on it\n",
    "compare_price_button = driver.find_element(By.CSS_SELECTOR, \".comparePrice-btn\")\n",
    "if compare_price_button:\n",
    "    compare_price_button.click()\n",
    "\n",
    "    # Wait for the total price to appear and get the current page\n",
    "    driver.implicitly_wait(15)\n",
    "    page_source = driver.page_source\n",
    "\n",
    "    # Parse the page again with Beautiful Soup\n",
    "    soup = BeautifulSoup(page_source, \"html.parser\")\n",
    "\n",
    "    # Find the total price element\n",
    "    price_element = soup.find(\"em\", class_=\"marker\")\n",
    "    if price_element:\n",
    "        total_price = price_element.get_text(strip=True)\n",
    "        print(\"Total Price:\", total_price)\n",
    "    else:\n",
    "        print(\"Total price not found.\")\n",
    "else:\n",
    "    print(\"The 'compare price' button was not found.\")\n",
    "\n",
    "# Close the browser\n",
    "driver.quit()\n"
   ]
  },
  {
   "cell_type": "code",
   "execution_count": null,
   "id": "7395bbcc",
   "metadata": {},
   "outputs": [],
   "source": []
  }
 ],
 "metadata": {
  "kernelspec": {
   "display_name": "Python 3 (ipykernel)",
   "language": "python",
   "name": "python3"
  },
  "language_info": {
   "codemirror_mode": {
    "name": "ipython",
    "version": 3
   },
   "file_extension": ".py",
   "mimetype": "text/x-python",
   "name": "python",
   "nbconvert_exporter": "python",
   "pygments_lexer": "ipython3",
   "version": "3.11.4"
  }
 },
 "nbformat": 4,
 "nbformat_minor": 5
}
